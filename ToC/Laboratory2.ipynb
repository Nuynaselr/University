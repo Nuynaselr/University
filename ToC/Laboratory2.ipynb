{
 "cells": [
  {
   "cell_type": "code",
   "execution_count": 2,
   "metadata": {},
   "outputs": [],
   "source": [
    "import numpy as np\n",
    "import bitarray as ba"
   ]
  },
  {
   "cell_type": "code",
   "execution_count": 4,
   "metadata": {},
   "outputs": [
    {
     "name": "stdout",
     "output_type": "stream",
     "text": [
      "Task 2: [1 0 0 1 1 1 0]\n",
      "Task 3: [0. 0. 1. 0. 0. 0. 0.]\n",
      "Task 4: [0. 0. 0. 1. 0. 1. 1.]\n"
     ]
    }
   ],
   "source": [
    "class CyclicCodes:\n",
    "    def __init__(self):\n",
    "        self.k = 4\n",
    "        self.n = 7\n",
    "        self.g = np.array([1,0,1,1])\n",
    "    \n",
    "    def mult_vector(self, input_array):\n",
    "        # создание массива нулей\n",
    "        c = np.array([0 for i in range(len(input_array) + len(self.g) - 1)])\n",
    "\n",
    "        # умножение многочленов и преобразование обратно в сообщение\n",
    "        for i in range(len(self.g)):\n",
    "            c[i:i+4] += input_array * self.g[i]\n",
    "        c %= 2\n",
    "        return c\n",
    "\n",
    "    def div_vector(self,  input):\n",
    "        # преобразование массивов в bitarray из ndarray \n",
    "        input = ba.bitarray(input.tolist())\n",
    "        g = ba.bitarray(self.g.tolist())\n",
    "\n",
    "        # вычисление остатка при делении многочленов\n",
    "        for i in range(self.k):\n",
    "            if input[self.n-i-1] == 1:\n",
    "                input[self.n-i-4:self.n-i] ^= g\n",
    "        answer = np.zeros((len(input),))\n",
    "        \n",
    "        # преобразование обратно в ndarray из bitarray\n",
    "        for i in range(len(input.tolist())):\n",
    "            answer[i] = input[i]\n",
    "        return answer\n",
    "\n",
    "    def coding(self, input_array):\n",
    "        # создание массива нулей\n",
    "        c = np.zeros((7,))\n",
    "\n",
    "        # сдвиг вправо на n-k разрядов и вычисление остатка от деления\n",
    "        for i in range(self.n - self.k, self.n ):\n",
    "            c[i] = input_array[i - self.k + 1]\n",
    "        r = self.div_vector(c)\n",
    "\n",
    "        # преобразование обратно сообщение со сдвигом и остатком\n",
    "        for i in range(self.n - self.k):\n",
    "            c[i] = r[i]\n",
    "        return c\n",
    "\n",
    "test_element = CyclicCodes()\n",
    "check_mult = test_element.mult_vector(np.array([1,0,1,0]))\n",
    "print(f'Task 2: {check_mult}')\n",
    "check_div = test_element.div_vector(np.array([0,0,0,1,1,0,1]))\n",
    "print(f'Task 3: {check_div}')\n",
    "check_coding = test_element.coding(np.array([1,0,1,1]))\n",
    "print(f'Task 4: {check_coding}')"
   ]
  }
 ],
 "metadata": {
  "kernelspec": {
   "display_name": "Python 3",
   "language": "python",
   "name": "python3"
  },
  "language_info": {
   "codemirror_mode": {
    "name": "ipython",
    "version": 3
   },
   "file_extension": ".py",
   "mimetype": "text/x-python",
   "name": "python",
   "nbconvert_exporter": "python",
   "pygments_lexer": "ipython3",
   "version": "3.7.4"
  }
 },
 "nbformat": 4,
 "nbformat_minor": 2
}
